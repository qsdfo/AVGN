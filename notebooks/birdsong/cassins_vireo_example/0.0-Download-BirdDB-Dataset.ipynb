{
 "cells": [
  {
   "cell_type": "code",
   "execution_count": 1,
   "metadata": {
    "ExecuteTime": {
     "end_time": "2018-10-17T17:38:09.227917Z",
     "start_time": "2018-10-17T17:38:09.190707Z"
    }
   },
   "outputs": [
    {
     "name": "stderr",
     "output_type": "stream",
     "text": [
      "/home/AD/tsainbur/anaconda/lib/python3.7/site-packages/tqdm/autonotebook/__init__.py:14: TqdmExperimentalWarning: Using `tqdm.autonotebook.tqdm` in notebook mode. Use `tqdm.tqdm` instead to force console mode (e.g. in jupyter console)\n",
      "  \" (e.g. in jupyter console)\", TqdmExperimentalWarning)\n"
     ]
    }
   ],
   "source": [
    "import pandas as pd\n",
    "import xlrd\n",
    "from datetime import datetime, timedelta\n",
    "from scipy.io import wavfile\n",
    "import os\n",
    "import urllib.request\n",
    "from tqdm.autonotebook import tqdm"
   ]
  },
  {
   "cell_type": "markdown",
   "metadata": {},
   "source": [
    "### read bird excel file"
   ]
  },
  {
   "cell_type": "code",
   "execution_count": 2,
   "metadata": {
    "ExecuteTime": {
     "end_time": "2018-10-17T17:38:10.900584Z",
     "start_time": "2018-10-17T17:38:09.971795Z"
    }
   },
   "outputs": [],
   "source": [
    "song_db = pd.read_excel('BIRD_DB.xls')\n",
    "mainData_book = xlrd.open_workbook(\"BIRD_DB.xls\", formatting_info=True)\n",
    "mainData_sheet = mainData_book.sheet_by_index(0)\n",
    "song_urls = ['' if mainData_sheet.hyperlink_map.get((i, 11)) == None else mainData_sheet.hyperlink_map.get((i, 11)).url_or_path for i in range(mainData_sheet.nrows)]\n",
    "song_db['Audio_file'] = song_urls[1:]\n",
    "song_db = song_db[1:]"
   ]
  },
  {
   "cell_type": "code",
   "execution_count": 3,
   "metadata": {
    "ExecuteTime": {
     "end_time": "2018-10-17T17:38:11.149969Z",
     "start_time": "2018-10-17T17:38:10.912752Z"
    }
   },
   "outputs": [
    {
     "data": {
      "text/html": [
       "<div>\n",
       "<style scoped>\n",
       "    .dataframe tbody tr th:only-of-type {\n",
       "        vertical-align: middle;\n",
       "    }\n",
       "\n",
       "    .dataframe tbody tr th {\n",
       "        vertical-align: top;\n",
       "    }\n",
       "\n",
       "    .dataframe thead th {\n",
       "        text-align: right;\n",
       "    }\n",
       "</style>\n",
       "<table border=\"1\" class=\"dataframe\">\n",
       "  <thead>\n",
       "    <tr style=\"text-align: right;\">\n",
       "      <th></th>\n",
       "      <th>TrackName</th>\n",
       "      <th>type_of_device</th>\n",
       "      <th>configuration</th>\n",
       "      <th>microphone</th>\n",
       "      <th>recorder</th>\n",
       "      <th>sample_rate</th>\n",
       "      <th>Recordist_first_name</th>\n",
       "      <th>Recordist_last_name</th>\n",
       "      <th>recording_date</th>\n",
       "      <th>recording_time</th>\n",
       "      <th>...</th>\n",
       "      <th>Region</th>\n",
       "      <th>country</th>\n",
       "      <th>state_or_province</th>\n",
       "      <th>vegetation_type</th>\n",
       "      <th>Analysis</th>\n",
       "      <th>Analysis_date</th>\n",
       "      <th>Analysis_method</th>\n",
       "      <th>number_of_phrases</th>\n",
       "      <th>Textgrid_file</th>\n",
       "      <th>Keycode_file</th>\n",
       "    </tr>\n",
       "  </thead>\n",
       "  <tbody>\n",
       "    <tr>\n",
       "      <th>1</th>\n",
       "      <td>tCOMM09-1</td>\n",
       "      <td>single microphone</td>\n",
       "      <td>MOC2012</td>\n",
       "      <td>Sennheiser omnidirectional with Telinga parabo...</td>\n",
       "      <td>Marantz PMD650</td>\n",
       "      <td>44.0</td>\n",
       "      <td>Martin</td>\n",
       "      <td>Cody</td>\n",
       "      <td>2009-03-21</td>\n",
       "      <td>08:25:00</td>\n",
       "      <td>...</td>\n",
       "      <td>Amador</td>\n",
       "      <td>USA</td>\n",
       "      <td>California</td>\n",
       "      <td>Open Chapparal</td>\n",
       "      <td>CATH processed</td>\n",
       "      <td>2013-02-23</td>\n",
       "      <td>Praat annotation</td>\n",
       "      <td>383.0</td>\n",
       "      <td>Files_TextGrids/2009/March/CATH1.TextGrid</td>\n",
       "      <td>Files_Keys/CATH_2009/TRIPLELETTER_N_CA_phrases...</td>\n",
       "    </tr>\n",
       "    <tr>\n",
       "      <th>2</th>\n",
       "      <td>tCOMM09-2</td>\n",
       "      <td>single microphone</td>\n",
       "      <td>MOC2012</td>\n",
       "      <td>Sennheiser omnidirectional with Telinga parabo...</td>\n",
       "      <td>Marantz PMD650</td>\n",
       "      <td>44.0</td>\n",
       "      <td>Martin</td>\n",
       "      <td>Cody</td>\n",
       "      <td>2009-03-21</td>\n",
       "      <td>08:27:00</td>\n",
       "      <td>...</td>\n",
       "      <td>Amador</td>\n",
       "      <td>USA</td>\n",
       "      <td>California</td>\n",
       "      <td>Open Chapparal</td>\n",
       "      <td>CATH processed</td>\n",
       "      <td>2013-02-23</td>\n",
       "      <td>Praat annotation</td>\n",
       "      <td>152.0</td>\n",
       "      <td>Files_TextGrids/2009/March/CATH2.TextGrid</td>\n",
       "      <td>Files_Keys/CATH_2009/TRIPLELETTER_N_CA_phrases...</td>\n",
       "    </tr>\n",
       "    <tr>\n",
       "      <th>3</th>\n",
       "      <td>tCOMM09-3</td>\n",
       "      <td>single microphone</td>\n",
       "      <td>MOC2012</td>\n",
       "      <td>Sennheiser omnidirectional with Telinga parabo...</td>\n",
       "      <td>Marantz PMD650</td>\n",
       "      <td>44.0</td>\n",
       "      <td>Martin</td>\n",
       "      <td>Cody</td>\n",
       "      <td>2009-03-21</td>\n",
       "      <td>08:28:00</td>\n",
       "      <td>...</td>\n",
       "      <td>Amador</td>\n",
       "      <td>USA</td>\n",
       "      <td>California</td>\n",
       "      <td>Open Chapparal</td>\n",
       "      <td>CATH processed</td>\n",
       "      <td>2013-02-23</td>\n",
       "      <td>Praat annotation</td>\n",
       "      <td>140.0</td>\n",
       "      <td>Files_TextGrids/2009/March/CATH3.TextGrid</td>\n",
       "      <td>Files_Keys/CATH_2009/TRIPLELETTER_N_CA_phrases...</td>\n",
       "    </tr>\n",
       "  </tbody>\n",
       "</table>\n",
       "<p>3 rows × 44 columns</p>\n",
       "</div>"
      ],
      "text/plain": [
       "   TrackName     type_of_device configuration  \\\n",
       "1  tCOMM09-1  single microphone       MOC2012   \n",
       "2  tCOMM09-2  single microphone       MOC2012   \n",
       "3  tCOMM09-3  single microphone       MOC2012   \n",
       "\n",
       "                                          microphone        recorder  \\\n",
       "1  Sennheiser omnidirectional with Telinga parabo...  Marantz PMD650   \n",
       "2  Sennheiser omnidirectional with Telinga parabo...  Marantz PMD650   \n",
       "3  Sennheiser omnidirectional with Telinga parabo...  Marantz PMD650   \n",
       "\n",
       "   sample_rate Recordist_first_name Recordist_last_name recording_date  \\\n",
       "1         44.0               Martin                Cody     2009-03-21   \n",
       "2         44.0               Martin                Cody     2009-03-21   \n",
       "3         44.0               Martin                Cody     2009-03-21   \n",
       "\n",
       "  recording_time                        ...                          Region  \\\n",
       "1       08:25:00                        ...                          Amador   \n",
       "2       08:27:00                        ...                          Amador   \n",
       "3       08:28:00                        ...                          Amador   \n",
       "\n",
       "  country state_or_province vegetation_type        Analysis Analysis_date  \\\n",
       "1     USA        California  Open Chapparal  CATH processed    2013-02-23   \n",
       "2     USA        California  Open Chapparal  CATH processed    2013-02-23   \n",
       "3     USA        California  Open Chapparal  CATH processed    2013-02-23   \n",
       "\n",
       "    Analysis_method number_of_phrases  \\\n",
       "1  Praat annotation             383.0   \n",
       "2  Praat annotation             152.0   \n",
       "3  Praat annotation             140.0   \n",
       "\n",
       "                               Textgrid_file  \\\n",
       "1  Files_TextGrids/2009/March/CATH1.TextGrid   \n",
       "2  Files_TextGrids/2009/March/CATH2.TextGrid   \n",
       "3  Files_TextGrids/2009/March/CATH3.TextGrid   \n",
       "\n",
       "                                        Keycode_file  \n",
       "1  Files_Keys/CATH_2009/TRIPLELETTER_N_CA_phrases...  \n",
       "2  Files_Keys/CATH_2009/TRIPLELETTER_N_CA_phrases...  \n",
       "3  Files_Keys/CATH_2009/TRIPLELETTER_N_CA_phrases...  \n",
       "\n",
       "[3 rows x 44 columns]"
      ]
     },
     "execution_count": 3,
     "metadata": {},
     "output_type": "execute_result"
    }
   ],
   "source": [
    "song_db[:3]"
   ]
  },
  {
   "cell_type": "code",
   "execution_count": 4,
   "metadata": {
    "ExecuteTime": {
     "end_time": "2018-10-17T17:38:11.174698Z",
     "start_time": "2018-10-17T17:38:11.160372Z"
    }
   },
   "outputs": [
    {
     "name": "stdout",
     "output_type": "stream",
     "text": [
      "645 647\n"
     ]
    }
   ],
   "source": [
    "print(len(song_db),mainData_sheet.nrows)"
   ]
  },
  {
   "cell_type": "markdown",
   "metadata": {
    "ExecuteTime": {
     "end_time": "2018-10-16T23:14:07.208591Z",
     "start_time": "2018-10-16T23:14:07.205322Z"
    }
   },
   "source": [
    "### Download waveforms and TextGrids"
   ]
  },
  {
   "cell_type": "code",
   "execution_count": 5,
   "metadata": {
    "ExecuteTime": {
     "end_time": "2018-10-17T18:06:53.374436Z",
     "start_time": "2018-10-17T18:06:53.363912Z"
    }
   },
   "outputs": [],
   "source": [
    "bird_db_loc = '../../../data/bird-db'\n",
    "if not os.path.exists(bird_db_loc):\n",
    "    os.makedirs(bird_db_loc)"
   ]
  },
  {
   "cell_type": "code",
   "execution_count": 6,
   "metadata": {
    "ExecuteTime": {
     "end_time": "2018-10-17T18:17:55.284123Z",
     "start_time": "2018-10-17T18:17:55.142931Z"
    }
   },
   "outputs": [],
   "source": [
    "from urllib.error import HTTPError\n",
    "from sklearn.externals.joblib import Parallel, delayed"
   ]
  },
  {
   "cell_type": "code",
   "execution_count": 7,
   "metadata": {
    "ExecuteTime": {
     "end_time": "2018-10-17T18:19:09.634259Z",
     "start_time": "2018-10-17T18:19:09.628915Z"
    }
   },
   "outputs": [],
   "source": [
    "parallel = True\n",
    "verbosity=0\n",
    "n_jobs=20\n",
    "save=True"
   ]
  },
  {
   "cell_type": "code",
   "execution_count": 8,
   "metadata": {
    "ExecuteTime": {
     "end_time": "2018-10-17T18:19:09.954568Z",
     "start_time": "2018-10-17T18:19:09.939742Z"
    }
   },
   "outputs": [],
   "source": [
    "def downloadBirdDB(row):\n",
    "    wav = row['Audio_file']\n",
    "    text_grid = row['Textgrid_file']\n",
    "    track_name = row['TrackName']\n",
    "    subject_id = row['SubjectName']\n",
    "    species = row['Species_short_name']\n",
    "    recording_time = row['recording_date'] + timedelta(hours = row['recording_time'].hour,\n",
    "                                                          minutes = row['recording_time'].minute,\n",
    "                                                          seconds = row['recording_time'].second)\n",
    "    # PREP SAVE LOCATION\n",
    "    wav_location = '/'.join([bird_db_loc,species,subject_id,'wavs', recording_time.strftime(\"%Y-%m-%d_%H-%M-%S-%f\")+'.wav'])\n",
    "    grid_location = '/'.join([bird_db_loc,species,subject_id,'TextGrids', recording_time.strftime(\"%Y-%m-%d_%H-%M-%S-%f\")+'.TextGrid'])\n",
    "    if not os.path.exists('/'.join([bird_db_loc,species,subject_id,'wavs'])): \n",
    "        os.makedirs('/'.join([bird_db_loc,species,subject_id,'wavs'])) \n",
    "    if not os.path.exists('/'.join([bird_db_loc,species,subject_id,'TextGrids'])):                              \n",
    "        os.makedirs('/'.join([bird_db_loc,species,subject_id,'TextGrids'])) \n",
    "    \n",
    "    # save wav\n",
    "    if not os.path.exists(wav_location): \n",
    "        try:\n",
    "            urllib.request.urlretrieve(wav, wav_location)\n",
    "        except HTTPError:\n",
    "            print('Could not retreive ' + wav)\n",
    "    # save textgrid\n",
    "    if not os.path.exists(grid_location): \n",
    "        try:\n",
    "            urllib.request.urlretrieve('http://taylor0.biology.ucla.edu/birdDBQuery/Files/'+text_grid, grid_location)\n",
    "        except HTTPError:\n",
    "            print('Could not retreive ' + 'http://taylor0.biology.ucla.edu/birdDBQuery/Files/'+text_grid)"
   ]
  },
  {
   "cell_type": "code",
   "execution_count": null,
   "metadata": {
    "ExecuteTime": {
     "start_time": "2018-10-17T18:19:14.950Z"
    }
   },
   "outputs": [
    {
     "data": {
      "application/vnd.jupyter.widget-view+json": {
       "model_id": "007275bdb6b646dd8db4bf9a23e49dca",
       "version_major": 2,
       "version_minor": 0
      },
      "text/plain": [
       "HBox(children=(IntProgress(value=0, max=645), HTML(value='')))"
      ]
     },
     "metadata": {},
     "output_type": "display_data"
    },
    {
     "name": "stdout",
     "output_type": "stream",
     "text": [
      "Could not retreive http://taylor0.biology.ucla.edu/birdDBQuery/Files/Tracks/2014/May/1454.WAV\n",
      "Could not retreive http://taylor0.biology.ucla.edu/birdDBQuery/Files/Files_TextGrids/2014/May/1497.TextGrid\n",
      "Could not retreive http://taylor0.biology.ucla.edu/birdDBQuery/Files/Files_TextGrids/2014/May/1454.TextGrid\n",
      "Could not retreive http://taylor0.biology.ucla.edu/birdDBQuery/Files/Files_TextGrids/2013/May/1023.TextGrid\n",
      "Could not retreive http://taylor0.biology.ucla.edu/birdDBQuery/Files/Files_TextGrids/2013/Jun/1222.TextGrid\n",
      "Could not retreive http://taylor0.biology.ucla.edu/birdDBQuery/Files/Files_TextGrids/2013/May/1022.TextGrid\n",
      "Could not retreive http://taylor0.biology.ucla.edu/birdDBQuery/Files/Files_TextGrids/2013/Jun/1257.TextGrid\n",
      "Could not retreive http://taylor0.biology.ucla.edu/birdDBQuery/Files/Files_TextGrids/2013/May/1021.TextGrid\n",
      "\n",
      "Could not retreive http://taylor0.biology.ucla.edu/birdDBQuery/Files/Files_TextGrids/2014/Jun/1604.TextGrid\n",
      "Could not retreive http://taylor0.biology.ucla.edu/birdDBQuery/Files/Tracks/2014/Jun/1617.WAV\n",
      "Could not retreive http://taylor0.biology.ucla.edu/birdDBQuery/Files/Files_TextGrids/2014/Jun/1593.TextGrid\n",
      "Could not retreive http://taylor0.biology.ucla.edu/birdDBQuery/Files/Files_TextGrids/2014/Jun/1594.TextGrid\n",
      "Could not retreive http://taylor0.biology.ucla.edu/birdDBQuery/Files/Files_TextGrids/2014/Jun/1595.TextGrid\n",
      "Could not retreive http://taylor0.biology.ucla.edu/birdDBQuery/Files/Files_TextGrids/2014/Jun/1596.TextGrid\n",
      "Could not retreive http://taylor0.biology.ucla.edu/birdDBQuery/Files/Files_TextGrids/2014/Jun/1597.TextGrid\n",
      "Could not retreive http://taylor0.biology.ucla.edu/birdDBQuery/Files/Files_TextGrids/2014/May/1550.TextGrid\n",
      "Could not retreive http://taylor0.biology.ucla.edu/birdDBQuery/Files/Files_TextGrids/2014/May/1505.TextGrid\n",
      "Could not retreive http://taylor0.biology.ucla.edu/birdDBQuery/Files/Tracks/2014/May/1438.WAV\n",
      "Could not retreive http://taylor0.biology.ucla.edu/birdDBQuery/Files/Files_TextGrids/2014/May/1438.TextGrid\n",
      "Could not retreive http://taylor0.biology.ucla.edu/birdDBQuery/Files/Files_TextGrids/2014/Jun/1598.TextGrid\n",
      "Could not retreive http://taylor0.biology.ucla.edu/birdDBQuery/Files/Files_TextGrids/2014/Jun/1599.TextGrid\n",
      "Could not retreive http://taylor0.biology.ucla.edu/birdDBQuery/Files/Files_TextGrids/2014/Jun/1600.TextGrid\n",
      "Could not retreive http://taylor0.biology.ucla.edu/birdDBQuery/Files/Files_TextGrids/2014/Jun/1601.TextGrid\n",
      "Could not retreive http://taylor0.biology.ucla.edu/birdDBQuery/Files/Files_TextGrids/2014/Jun/1602.TextGrid\n",
      "Could not retreive http://taylor0.biology.ucla.edu/birdDBQuery/Files/Files_TextGrids/2014/Jun/1603.TextGrid\n",
      "Could not retreive http://taylor0.biology.ucla.edu/birdDBQuery/Files/Tracks/2009/Jun/GTNP609SATHi.wav\n",
      "Could not retreive http://taylor0.biology.ucla.edu/birdDBQuery/Files/Tracks/2009/Jun/GTNP609SATHj.wav\n",
      "Could not retreive http://taylor0.biology.ucla.edu/birdDBQuery/Files/Tracks/2012/Jan/TRK15a-12.WAV\n"
     ]
    }
   ],
   "source": [
    "if parallel:\n",
    "    with Parallel(n_jobs=n_jobs, verbose=verbosity) as parallel:\n",
    "        parallel(delayed(downloadBirdDB)(row) \n",
    "            for idx, row in tqdm(song_db.iterrows(), total=len(song_db)))\n",
    "else:\n",
    "    for idx, row in tqdm(song_db.iterrows(), total=len(song_db)):\n",
    "        downloadBirdDB(row) \n"
   ]
  },
  {
   "cell_type": "code",
   "execution_count": null,
   "metadata": {},
   "outputs": [],
   "source": []
  }
 ],
 "metadata": {
  "kernelspec": {
   "display_name": "Python 3",
   "language": "python",
   "name": "python3"
  },
  "language_info": {
   "codemirror_mode": {
    "name": "ipython",
    "version": 3
   },
   "file_extension": ".py",
   "mimetype": "text/x-python",
   "name": "python",
   "nbconvert_exporter": "python",
   "pygments_lexer": "ipython3",
   "version": "3.7.2"
  },
  "toc": {
   "base_numbering": 1,
   "nav_menu": {},
   "number_sections": true,
   "sideBar": true,
   "skip_h1_title": false,
   "title_cell": "Table of Contents",
   "title_sidebar": "Contents",
   "toc_cell": false,
   "toc_position": {},
   "toc_section_display": true,
   "toc_window_display": false
  }
 },
 "nbformat": 4,
 "nbformat_minor": 2
}
